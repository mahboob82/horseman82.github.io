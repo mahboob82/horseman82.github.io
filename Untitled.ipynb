{
  "nbformat": 4,
  "nbformat_minor": 0,
  "metadata": {
    "kernelspec": {
      "display_name": "Python 3",
      "language": "python",
      "name": "python3"
    },
    "language_info": {
      "codemirror_mode": {
        "name": "ipython",
        "version": 3
      },
      "file_extension": ".py",
      "mimetype": "text/x-python",
      "name": "python",
      "nbconvert_exporter": "python",
      "pygments_lexer": "ipython3",
      "version": "3.6.9"
    },
    "colab": {
      "name": "Untitled.ipynb",
      "provenance": [],
      "collapsed_sections": [],
      "include_colab_link": true
    }
  },
  "cells": [
    {
      "cell_type": "markdown",
      "metadata": {
        "id": "view-in-github",
        "colab_type": "text"
      },
      "source": [
        "<a href=\"https://colab.research.google.com/github/mahboob82/horseman82.github.io/blob/master/Untitled.ipynb\" target=\"_parent\"><img src=\"https://colab.research.google.com/assets/colab-badge.svg\" alt=\"Open In Colab\"/></a>"
      ]
    },
    {
      "cell_type": "markdown",
      "metadata": {
        "id": "6Cdj-WqSNICb"
      },
      "source": [
        "### Stock Market Prediction And Forecasting Using Stacked LSTM"
      ]
    },
    {
      "cell_type": "code",
      "metadata": {
        "id": "2cdvSuQLNICh"
      },
      "source": [
        "### Keras and Tensorflow >2.0"
      ],
      "execution_count": 731,
      "outputs": []
    },
    {
      "cell_type": "code",
      "metadata": {
        "id": "ughphc_GNICh"
      },
      "source": [
        "# Import libraries\n",
        "import math\n",
        "import pandas_datareader as web\n",
        "import numpy as np\n",
        "import pandas as pd\n",
        "from sklearn.preprocessing import MinMaxScaler\n",
        "from keras.models import Sequential\n",
        "from keras.layers import Dense, LSTM\n",
        "import matplotlib.pyplot as plt\n",
        "plt.style.use('fivethirtyeight')\n",
        "from sklearn.preprocessing import MinMaxScaler\n",
        "import pandas as pd\n",
        "from google.colab import files\n",
        "### Create the Stacked LSTM model\n",
        "from tensorflow.keras.models import Sequential\n",
        "from tensorflow.keras.layers import Dense\n",
        "from tensorflow.keras.layers import LSTM\n",
        "import tensorflow as tf\n",
        "import math\n",
        "from sklearn.metrics import mean_squared_error\n",
        "# tf.__version__\n"
      ],
      "execution_count": 732,
      "outputs": []
    },
    {
      "cell_type": "code",
      "metadata": {
        "id": "n364bjqXvM14"
      },
      "source": [
        "time_step = 20\r\n",
        "predict_ahead = 10\r\n",
        "train_split_percent = 0.68"
      ],
      "execution_count": 733,
      "outputs": []
    },
    {
      "cell_type": "code",
      "metadata": {
        "id": "FjqOyLDDzqht"
      },
      "source": [
        "# company listings\r\n",
        "#ticker_symbol = \"048410.KQ\" # 현대바이오\r\n",
        "ticker_symbol = \"004410.KS\" # 서울식품\r\n",
        "#ticker_symbol = \"051910.KS\" # LG화학\r\n",
        "#ticker_symbol = \"005930.KS\" # 삼성전자\r\n",
        "#ticker_symbol = \"068270.KS\" # Celtrion\r\n",
        "#ticker_symbol = \"011500.KS\" # 한농화성\r\n",
        "#ticker_symbol = \"900280.KQ\" # 골든센츄리\r\n",
        "#ticker_symbol = \"048410.KQ\" # 현대바이오\r\n",
        "#ticker_symbol = \"048410.KQ\" # 현대바이오\r\n",
        "\r\n",
        "\r\n"
      ],
      "execution_count": 778,
      "outputs": []
    },
    {
      "cell_type": "code",
      "metadata": {
        "colab": {
          "base_uri": "https://localhost:8080/",
          "height": 431
        },
        "id": "GJ3DPldcNICi",
        "outputId": "5d1d9b1b-ed17-473c-cf1f-e67e6e420590"
      },
      "source": [
        "#df = pdr.get_data_tiingo('AAPL', api_key=key)\r\n",
        "# df =  web.DataReader('AAPL', data_source='yahoo', start='2012-02-20', end='2021-02-21')\r\n",
        "df =  web.DataReader(ticker_symbol, data_source='yahoo', start='2012-02-20', end='2021-02-23')\r\n",
        "df"
      ],
      "execution_count": 779,
      "outputs": [
        {
          "output_type": "execute_result",
          "data": {
            "text/html": [
              "<div>\n",
              "<style scoped>\n",
              "    .dataframe tbody tr th:only-of-type {\n",
              "        vertical-align: middle;\n",
              "    }\n",
              "\n",
              "    .dataframe tbody tr th {\n",
              "        vertical-align: top;\n",
              "    }\n",
              "\n",
              "    .dataframe thead th {\n",
              "        text-align: right;\n",
              "    }\n",
              "</style>\n",
              "<table border=\"1\" class=\"dataframe\">\n",
              "  <thead>\n",
              "    <tr style=\"text-align: right;\">\n",
              "      <th></th>\n",
              "      <th>High</th>\n",
              "      <th>Low</th>\n",
              "      <th>Open</th>\n",
              "      <th>Close</th>\n",
              "      <th>Volume</th>\n",
              "      <th>Adj Close</th>\n",
              "    </tr>\n",
              "    <tr>\n",
              "      <th>Date</th>\n",
              "      <th></th>\n",
              "      <th></th>\n",
              "      <th></th>\n",
              "      <th></th>\n",
              "      <th></th>\n",
              "      <th></th>\n",
              "    </tr>\n",
              "  </thead>\n",
              "  <tbody>\n",
              "    <tr>\n",
              "      <th>2012-02-20</th>\n",
              "      <td>109.599998</td>\n",
              "      <td>100.400002</td>\n",
              "      <td>107.599998</td>\n",
              "      <td>104.599998</td>\n",
              "      <td>1.334135e+07</td>\n",
              "      <td>104.599998</td>\n",
              "    </tr>\n",
              "    <tr>\n",
              "      <th>2012-02-21</th>\n",
              "      <td>106.000000</td>\n",
              "      <td>101.199997</td>\n",
              "      <td>105.199997</td>\n",
              "      <td>102.800003</td>\n",
              "      <td>6.707425e+06</td>\n",
              "      <td>102.800003</td>\n",
              "    </tr>\n",
              "    <tr>\n",
              "      <th>2012-02-22</th>\n",
              "      <td>117.199997</td>\n",
              "      <td>102.599998</td>\n",
              "      <td>104.199997</td>\n",
              "      <td>107.599998</td>\n",
              "      <td>2.110628e+07</td>\n",
              "      <td>107.599998</td>\n",
              "    </tr>\n",
              "    <tr>\n",
              "      <th>2012-02-23</th>\n",
              "      <td>109.599998</td>\n",
              "      <td>102.199997</td>\n",
              "      <td>106.400002</td>\n",
              "      <td>103.400002</td>\n",
              "      <td>7.052750e+06</td>\n",
              "      <td>103.400002</td>\n",
              "    </tr>\n",
              "    <tr>\n",
              "      <th>2012-02-24</th>\n",
              "      <td>105.400002</td>\n",
              "      <td>98.800003</td>\n",
              "      <td>103.400002</td>\n",
              "      <td>99.000000</td>\n",
              "      <td>6.756650e+06</td>\n",
              "      <td>99.000000</td>\n",
              "    </tr>\n",
              "    <tr>\n",
              "      <th>...</th>\n",
              "      <td>...</td>\n",
              "      <td>...</td>\n",
              "      <td>...</td>\n",
              "      <td>...</td>\n",
              "      <td>...</td>\n",
              "      <td>...</td>\n",
              "    </tr>\n",
              "    <tr>\n",
              "      <th>2021-02-17</th>\n",
              "      <td>366.000000</td>\n",
              "      <td>301.000000</td>\n",
              "      <td>302.000000</td>\n",
              "      <td>366.000000</td>\n",
              "      <td>3.613173e+08</td>\n",
              "      <td>366.000000</td>\n",
              "    </tr>\n",
              "    <tr>\n",
              "      <th>2021-02-18</th>\n",
              "      <td>402.000000</td>\n",
              "      <td>259.000000</td>\n",
              "      <td>400.000000</td>\n",
              "      <td>270.000000</td>\n",
              "      <td>3.731277e+08</td>\n",
              "      <td>270.000000</td>\n",
              "    </tr>\n",
              "    <tr>\n",
              "      <th>2021-02-19</th>\n",
              "      <td>350.000000</td>\n",
              "      <td>245.000000</td>\n",
              "      <td>263.000000</td>\n",
              "      <td>330.000000</td>\n",
              "      <td>1.280649e+08</td>\n",
              "      <td>330.000000</td>\n",
              "    </tr>\n",
              "    <tr>\n",
              "      <th>2021-02-22</th>\n",
              "      <td>429.000000</td>\n",
              "      <td>366.000000</td>\n",
              "      <td>380.000000</td>\n",
              "      <td>429.000000</td>\n",
              "      <td>6.156969e+08</td>\n",
              "      <td>429.000000</td>\n",
              "    </tr>\n",
              "    <tr>\n",
              "      <th>2021-02-23</th>\n",
              "      <td>543.000000</td>\n",
              "      <td>364.000000</td>\n",
              "      <td>434.000000</td>\n",
              "      <td>472.000000</td>\n",
              "      <td>1.056520e+09</td>\n",
              "      <td>472.000000</td>\n",
              "    </tr>\n",
              "  </tbody>\n",
              "</table>\n",
              "<p>2211 rows × 6 columns</p>\n",
              "</div>"
            ],
            "text/plain": [
              "                  High         Low  ...        Volume   Adj Close\n",
              "Date                                ...                          \n",
              "2012-02-20  109.599998  100.400002  ...  1.334135e+07  104.599998\n",
              "2012-02-21  106.000000  101.199997  ...  6.707425e+06  102.800003\n",
              "2012-02-22  117.199997  102.599998  ...  2.110628e+07  107.599998\n",
              "2012-02-23  109.599998  102.199997  ...  7.052750e+06  103.400002\n",
              "2012-02-24  105.400002   98.800003  ...  6.756650e+06   99.000000\n",
              "...                ...         ...  ...           ...         ...\n",
              "2021-02-17  366.000000  301.000000  ...  3.613173e+08  366.000000\n",
              "2021-02-18  402.000000  259.000000  ...  3.731277e+08  270.000000\n",
              "2021-02-19  350.000000  245.000000  ...  1.280649e+08  330.000000\n",
              "2021-02-22  429.000000  366.000000  ...  6.156969e+08  429.000000\n",
              "2021-02-23  543.000000  364.000000  ...  1.056520e+09  472.000000\n",
              "\n",
              "[2211 rows x 6 columns]"
            ]
          },
          "metadata": {
            "tags": []
          },
          "execution_count": 779
        }
      ]
    },
    {
      "cell_type": "code",
      "metadata": {
        "id": "pFVJouAHNICi"
      },
      "source": [
        "#df.to_csv('AAPL.csv')"
      ],
      "execution_count": 736,
      "outputs": []
    },
    {
      "cell_type": "code",
      "metadata": {
        "id": "IoKuvT5qNICi"
      },
      "source": [
        "# uploaded = files.upload()"
      ],
      "execution_count": 737,
      "outputs": []
    },
    {
      "cell_type": "code",
      "metadata": {
        "id": "9nwhavcxNICi"
      },
      "source": [
        "# df=pd.read_csv(\"AAPL.csv\")"
      ],
      "execution_count": 738,
      "outputs": []
    },
    {
      "cell_type": "code",
      "metadata": {
        "colab": {
          "base_uri": "https://localhost:8080/",
          "height": 225
        },
        "id": "4rHcvKRVNICj",
        "outputId": "cc2db394-4e43-408e-8ae4-871848d5c256"
      },
      "source": [
        "df.head()"
      ],
      "execution_count": 739,
      "outputs": [
        {
          "output_type": "execute_result",
          "data": {
            "text/html": [
              "<div>\n",
              "<style scoped>\n",
              "    .dataframe tbody tr th:only-of-type {\n",
              "        vertical-align: middle;\n",
              "    }\n",
              "\n",
              "    .dataframe tbody tr th {\n",
              "        vertical-align: top;\n",
              "    }\n",
              "\n",
              "    .dataframe thead th {\n",
              "        text-align: right;\n",
              "    }\n",
              "</style>\n",
              "<table border=\"1\" class=\"dataframe\">\n",
              "  <thead>\n",
              "    <tr style=\"text-align: right;\">\n",
              "      <th></th>\n",
              "      <th>High</th>\n",
              "      <th>Low</th>\n",
              "      <th>Open</th>\n",
              "      <th>Close</th>\n",
              "      <th>Volume</th>\n",
              "      <th>Adj Close</th>\n",
              "    </tr>\n",
              "    <tr>\n",
              "      <th>Date</th>\n",
              "      <th></th>\n",
              "      <th></th>\n",
              "      <th></th>\n",
              "      <th></th>\n",
              "      <th></th>\n",
              "      <th></th>\n",
              "    </tr>\n",
              "  </thead>\n",
              "  <tbody>\n",
              "    <tr>\n",
              "      <th>2016-10-19</th>\n",
              "      <td>1776.369995</td>\n",
              "      <td>1563.810059</td>\n",
              "      <td>1737.329956</td>\n",
              "      <td>1654.910034</td>\n",
              "      <td>47893476.0</td>\n",
              "      <td>1654.910034</td>\n",
              "    </tr>\n",
              "    <tr>\n",
              "      <th>2016-10-20</th>\n",
              "      <td>2149.429932</td>\n",
              "      <td>1674.430054</td>\n",
              "      <td>1715.640015</td>\n",
              "      <td>2149.429932</td>\n",
              "      <td>75048854.0</td>\n",
              "      <td>2149.429932</td>\n",
              "    </tr>\n",
              "    <tr>\n",
              "      <th>2016-10-21</th>\n",
              "      <td>2546.350098</td>\n",
              "      <td>2056.159912</td>\n",
              "      <td>2168.949951</td>\n",
              "      <td>2290.409912</td>\n",
              "      <td>85500365.0</td>\n",
              "      <td>2290.409912</td>\n",
              "    </tr>\n",
              "    <tr>\n",
              "      <th>2016-10-24</th>\n",
              "      <td>2845.659912</td>\n",
              "      <td>2299.090088</td>\n",
              "      <td>2307.760010</td>\n",
              "      <td>2711.189941</td>\n",
              "      <td>60972601.0</td>\n",
              "      <td>2711.189941</td>\n",
              "    </tr>\n",
              "    <tr>\n",
              "      <th>2016-10-25</th>\n",
              "      <td>3305.479980</td>\n",
              "      <td>2620.090088</td>\n",
              "      <td>2737.209961</td>\n",
              "      <td>3166.669922</td>\n",
              "      <td>65733888.0</td>\n",
              "      <td>3166.669922</td>\n",
              "    </tr>\n",
              "  </tbody>\n",
              "</table>\n",
              "</div>"
            ],
            "text/plain": [
              "                   High          Low  ...      Volume    Adj Close\n",
              "Date                                  ...                         \n",
              "2016-10-19  1776.369995  1563.810059  ...  47893476.0  1654.910034\n",
              "2016-10-20  2149.429932  1674.430054  ...  75048854.0  2149.429932\n",
              "2016-10-21  2546.350098  2056.159912  ...  85500365.0  2290.409912\n",
              "2016-10-24  2845.659912  2299.090088  ...  60972601.0  2711.189941\n",
              "2016-10-25  3305.479980  2620.090088  ...  65733888.0  3166.669922\n",
              "\n",
              "[5 rows x 6 columns]"
            ]
          },
          "metadata": {
            "tags": []
          },
          "execution_count": 739
        }
      ]
    },
    {
      "cell_type": "code",
      "metadata": {
        "colab": {
          "base_uri": "https://localhost:8080/",
          "height": 225
        },
        "id": "gW_e1FKcNICk",
        "outputId": "7163a1c2-a132-4cba-d88c-54c6c9272cdc"
      },
      "source": [
        "df.tail()"
      ],
      "execution_count": 777,
      "outputs": [
        {
          "output_type": "execute_result",
          "data": {
            "text/html": [
              "<div>\n",
              "<style scoped>\n",
              "    .dataframe tbody tr th:only-of-type {\n",
              "        vertical-align: middle;\n",
              "    }\n",
              "\n",
              "    .dataframe tbody tr th {\n",
              "        vertical-align: top;\n",
              "    }\n",
              "\n",
              "    .dataframe thead th {\n",
              "        text-align: right;\n",
              "    }\n",
              "</style>\n",
              "<table border=\"1\" class=\"dataframe\">\n",
              "  <thead>\n",
              "    <tr style=\"text-align: right;\">\n",
              "      <th></th>\n",
              "      <th>High</th>\n",
              "      <th>Low</th>\n",
              "      <th>Open</th>\n",
              "      <th>Close</th>\n",
              "      <th>Volume</th>\n",
              "      <th>Adj Close</th>\n",
              "    </tr>\n",
              "    <tr>\n",
              "      <th>Date</th>\n",
              "      <th></th>\n",
              "      <th></th>\n",
              "      <th></th>\n",
              "      <th></th>\n",
              "      <th></th>\n",
              "      <th></th>\n",
              "    </tr>\n",
              "  </thead>\n",
              "  <tbody>\n",
              "    <tr>\n",
              "      <th>2018-01-26</th>\n",
              "      <td>1817.5</td>\n",
              "      <td>1762.5</td>\n",
              "      <td>1762.5</td>\n",
              "      <td>1815.0</td>\n",
              "      <td>403304.0</td>\n",
              "      <td>1815.0</td>\n",
              "    </tr>\n",
              "    <tr>\n",
              "      <th>2018-01-29</th>\n",
              "      <td>1837.5</td>\n",
              "      <td>1747.5</td>\n",
              "      <td>1820.0</td>\n",
              "      <td>1760.0</td>\n",
              "      <td>1718528.0</td>\n",
              "      <td>1760.0</td>\n",
              "    </tr>\n",
              "    <tr>\n",
              "      <th>2018-01-30</th>\n",
              "      <td>2090.0</td>\n",
              "      <td>1820.0</td>\n",
              "      <td>2000.0</td>\n",
              "      <td>1835.0</td>\n",
              "      <td>2384059.0</td>\n",
              "      <td>1835.0</td>\n",
              "    </tr>\n",
              "    <tr>\n",
              "      <th>2018-01-31</th>\n",
              "      <td>1865.0</td>\n",
              "      <td>1770.0</td>\n",
              "      <td>1865.0</td>\n",
              "      <td>1805.0</td>\n",
              "      <td>320703.0</td>\n",
              "      <td>1805.0</td>\n",
              "    </tr>\n",
              "    <tr>\n",
              "      <th>2021-02-23</th>\n",
              "      <td>521.0</td>\n",
              "      <td>376.0</td>\n",
              "      <td>380.0</td>\n",
              "      <td>521.0</td>\n",
              "      <td>369234870.0</td>\n",
              "      <td>521.0</td>\n",
              "    </tr>\n",
              "  </tbody>\n",
              "</table>\n",
              "</div>"
            ],
            "text/plain": [
              "              High     Low    Open   Close       Volume  Adj Close\n",
              "Date                                                              \n",
              "2018-01-26  1817.5  1762.5  1762.5  1815.0     403304.0     1815.0\n",
              "2018-01-29  1837.5  1747.5  1820.0  1760.0    1718528.0     1760.0\n",
              "2018-01-30  2090.0  1820.0  2000.0  1835.0    2384059.0     1835.0\n",
              "2018-01-31  1865.0  1770.0  1865.0  1805.0     320703.0     1805.0\n",
              "2021-02-23   521.0   376.0   380.0   521.0  369234870.0      521.0"
            ]
          },
          "metadata": {
            "tags": []
          },
          "execution_count": 777
        }
      ]
    },
    {
      "cell_type": "code",
      "metadata": {
        "colab": {
          "base_uri": "https://localhost:8080/",
          "height": 532
        },
        "id": "6O1P31-MNICk",
        "outputId": "018d7de0-7bd6-4d7d-9746-32ae533e6947"
      },
      "source": [
        "df1=df.reset_index()['Close']\r\n",
        "plt.figure(figsize=(16,8))\r\n",
        "plt.plot(df1)"
      ],
      "execution_count": 741,
      "outputs": [
        {
          "output_type": "execute_result",
          "data": {
            "text/plain": [
              "[<matplotlib.lines.Line2D at 0x7fd81befb9b0>]"
            ]
          },
          "metadata": {
            "tags": []
          },
          "execution_count": 741
        },
        {
          "output_type": "display_data",
          "data": {
            "image/png": "[encoded data removed]",
            "text/plain": [
              "<Figure size 1152x576 with 1 Axes>"
            ]
          },
          "metadata": {
            "tags": []
          }
        }
      ]
    },
    {
      "cell_type": "code",
      "metadata": {
        "id": "9had0KtkNICl"
      },
      "source": [
        "### LSTM are sensitive to the scale of the data. so we apply MinMax scaler "
      ],
      "execution_count": 742,
      "outputs": []
    },
    {
      "cell_type": "code",
      "metadata": {
        "id": "gdZuAyOGNICm"
      },
      "source": [
        "scaler=MinMaxScaler(feature_range=(0,1))\n",
        "df1=scaler.fit_transform(np.array(df1).reshape(-1,1))"
      ],
      "execution_count": 743,
      "outputs": []
    },
    {
      "cell_type": "code",
      "metadata": {
        "id": "ljc0WIVTNICm"
      },
      "source": [
        "#print(df1)"
      ],
      "execution_count": 744,
      "outputs": []
    },
    {
      "cell_type": "code",
      "metadata": {
        "id": "kvF9QmRcNICm"
      },
      "source": [
        "##splitting dataset into train and test split\n",
        "training_size=int(len(df1)*train_split_percent)\n",
        "test_size=len(df1)-training_size\n",
        "train_data,test_data=df1[0:training_size,:],df1[training_size:len(df1),:1]"
      ],
      "execution_count": 745,
      "outputs": []
    },
    {
      "cell_type": "code",
      "metadata": {
        "colab": {
          "base_uri": "https://localhost:8080/"
        },
        "id": "6kSQArR5NICm",
        "outputId": "8fa3fed1-182b-4e17-9da0-844cc8dda952"
      },
      "source": [
        "training_size,test_size"
      ],
      "execution_count": 746,
      "outputs": [
        {
          "output_type": "execute_result",
          "data": {
            "text/plain": [
              "(212, 101)"
            ]
          },
          "metadata": {
            "tags": []
          },
          "execution_count": 746
        }
      ]
    },
    {
      "cell_type": "code",
      "metadata": {
        "id": "CdmVWn7PNICn"
      },
      "source": [
        "#train_data[:5]"
      ],
      "execution_count": 747,
      "outputs": []
    },
    {
      "cell_type": "code",
      "metadata": {
        "id": "jsobjpVZNICn"
      },
      "source": [
        "# convert an array of values into a dataset matrix\n",
        "def create_dataset(dataset, time_step=1):\n",
        "\tdataX, dataY = [], []\n",
        "\tfor i in range(len(dataset)-time_step-1):\n",
        "\t\ta = dataset[i:(i+time_step), 0]   ###i=0, 0,1,2,3-----99   100 \n",
        "\t\tdataX.append(a)\n",
        "\t\tdataY.append(dataset[i + time_step, 0])\n",
        "\treturn np.array(dataX), np.array(dataY)"
      ],
      "execution_count": 748,
      "outputs": []
    },
    {
      "cell_type": "code",
      "metadata": {
        "id": "Ui9Fy_LINICn"
      },
      "source": [
        "# reshape into X=t,t+1,t+2,t+3 and Y=t+4\n",
        "\n",
        "X_train, y_train = create_dataset(train_data, time_step)\n",
        "X_test, ytest = create_dataset(test_data, time_step)"
      ],
      "execution_count": 749,
      "outputs": []
    },
    {
      "cell_type": "code",
      "metadata": {
        "colab": {
          "base_uri": "https://localhost:8080/"
        },
        "id": "Ysl0RcDaNICn",
        "outputId": "6a4f2b01-1d55-4af1-e5f8-4e47a451ea52"
      },
      "source": [
        "print(X_train.shape), print(y_train.shape)"
      ],
      "execution_count": 750,
      "outputs": [
        {
          "output_type": "stream",
          "text": [
            "(191, 20)\n",
            "(191,)\n"
          ],
          "name": "stdout"
        },
        {
          "output_type": "execute_result",
          "data": {
            "text/plain": [
              "(None, None)"
            ]
          },
          "metadata": {
            "tags": []
          },
          "execution_count": 750
        }
      ]
    },
    {
      "cell_type": "code",
      "metadata": {
        "colab": {
          "base_uri": "https://localhost:8080/"
        },
        "id": "jcmWPMxsNICn",
        "outputId": "e64c09bf-50c4-484f-fc2f-3de8a32bc542"
      },
      "source": [
        "print(X_test.shape), print(ytest.shape)"
      ],
      "execution_count": 751,
      "outputs": [
        {
          "output_type": "stream",
          "text": [
            "(80, 20)\n",
            "(80,)\n"
          ],
          "name": "stdout"
        },
        {
          "output_type": "execute_result",
          "data": {
            "text/plain": [
              "(None, None)"
            ]
          },
          "metadata": {
            "tags": []
          },
          "execution_count": 751
        }
      ]
    },
    {
      "cell_type": "code",
      "metadata": {
        "id": "WJ84avq9NICo"
      },
      "source": [
        "# reshape input to be [samples, time steps, features] which is required for LSTM\n",
        "X_train =X_train.reshape(X_train.shape[0],X_train.shape[1] , 1)\n",
        "X_test = X_test.reshape(X_test.shape[0],X_test.shape[1] , 1)"
      ],
      "execution_count": 752,
      "outputs": []
    },
    {
      "cell_type": "code",
      "metadata": {
        "id": "SvuTMo1vNICo"
      },
      "source": [
        "model=Sequential()\n",
        "model.add(LSTM(50,return_sequences=True,input_shape=(time_step,1)))\n",
        "model.add(LSTM(50,return_sequences=True))\n",
        "model.add(LSTM(50))\n",
        "model.add(Dense(1))\n",
        "model.compile(loss='mean_squared_error',optimizer='adam')\n"
      ],
      "execution_count": 753,
      "outputs": []
    },
    {
      "cell_type": "code",
      "metadata": {
        "colab": {
          "base_uri": "https://localhost:8080/"
        },
        "id": "SzfFzLYaNICo",
        "outputId": "3a326f3d-7e35-4503-aa96-5c21ebce9015"
      },
      "source": [
        "# MODEL SUMMARY VIEW\r\n",
        "model.summary()"
      ],
      "execution_count": 754,
      "outputs": [
        {
          "output_type": "stream",
          "text": [
            "Model: \"sequential_19\"\n",
            "_________________________________________________________________\n",
            "Layer (type)                 Output Shape              Param #   \n",
            "=================================================================\n",
            "lstm_57 (LSTM)               (None, 20, 50)            10400     \n",
            "_________________________________________________________________\n",
            "lstm_58 (LSTM)               (None, 20, 50)            20200     \n",
            "_________________________________________________________________\n",
            "lstm_59 (LSTM)               (None, 50)                20200     \n",
            "_________________________________________________________________\n",
            "dense_19 (Dense)             (None, 1)                 51        \n",
            "=================================================================\n",
            "Total params: 50,851\n",
            "Trainable params: 50,851\n",
            "Non-trainable params: 0\n",
            "_________________________________________________________________\n"
          ],
          "name": "stdout"
        }
      ]
    },
    {
      "cell_type": "code",
      "metadata": {
        "colab": {
          "base_uri": "https://localhost:8080/"
        },
        "id": "sQFQRrTCNICp",
        "outputId": "1f69405c-b102-4728-bed5-05b3be572b1f"
      },
      "source": [
        "# FIT THE MODEL\r\n",
        "model.fit(X_train,y_train,validation_data=(X_test,ytest),epochs=100,batch_size=64,verbose=1)"
      ],
      "execution_count": 755,
      "outputs": [
        {
          "output_type": "stream",
          "text": [
            "Epoch 1/100\n",
            "3/3 [==============================] - 6s 590ms/step - loss: 0.2854 - val_loss: 0.0391\n",
            "Epoch 2/100\n",
            "3/3 [==============================] - 0s 60ms/step - loss: 0.0782 - val_loss: 0.0141\n",
            "Epoch 3/100\n",
            "3/3 [==============================] - 0s 65ms/step - loss: 0.0351 - val_loss: 0.0334\n",
            "Epoch 4/100\n",
            "3/3 [==============================] - 0s 62ms/step - loss: 0.0290 - val_loss: 0.0032\n",
            "Epoch 5/100\n",
            "3/3 [==============================] - 0s 59ms/step - loss: 0.0107 - val_loss: 0.0042\n",
            "Epoch 6/100\n",
            "3/3 [==============================] - 0s 60ms/step - loss: 0.0249 - val_loss: 0.0040\n",
            "Epoch 7/100\n",
            "3/3 [==============================] - 0s 66ms/step - loss: 0.0180 - val_loss: 0.0023\n",
            "Epoch 8/100\n",
            "3/3 [==============================] - 0s 59ms/step - loss: 0.0088 - val_loss: 0.0076\n",
            "Epoch 9/100\n",
            "3/3 [==============================] - 0s 62ms/step - loss: 0.0098 - val_loss: 0.0131\n",
            "Epoch 10/100\n",
            "3/3 [==============================] - 0s 62ms/step - loss: 0.0115 - val_loss: 0.0086\n",
            "Epoch 11/100\n",
            "3/3 [==============================] - 0s 61ms/step - loss: 0.0071 - val_loss: 0.0037\n",
            "Epoch 12/100\n",
            "3/3 [==============================] - 0s 60ms/step - loss: 0.0084 - val_loss: 0.0025\n",
            "Epoch 13/100\n",
            "3/3 [==============================] - 0s 64ms/step - loss: 0.0089 - val_loss: 0.0025\n",
            "Epoch 14/100\n",
            "3/3 [==============================] - 0s 61ms/step - loss: 0.0074 - val_loss: 0.0036\n",
            "Epoch 15/100\n",
            "3/3 [==============================] - 0s 60ms/step - loss: 0.0056 - val_loss: 0.0052\n",
            "Epoch 16/100\n",
            "3/3 [==============================] - 0s 58ms/step - loss: 0.0073 - val_loss: 0.0053\n",
            "Epoch 17/100\n",
            "3/3 [==============================] - 0s 58ms/step - loss: 0.0073 - val_loss: 0.0037\n",
            "Epoch 18/100\n",
            "3/3 [==============================] - 0s 65ms/step - loss: 0.0054 - val_loss: 0.0028\n",
            "Epoch 19/100\n",
            "3/3 [==============================] - 0s 63ms/step - loss: 0.0065 - val_loss: 0.0026\n",
            "Epoch 20/100\n",
            "3/3 [==============================] - 0s 62ms/step - loss: 0.0059 - val_loss: 0.0028\n",
            "Epoch 21/100\n",
            "3/3 [==============================] - 0s 63ms/step - loss: 0.0057 - val_loss: 0.0031\n",
            "Epoch 22/100\n",
            "3/3 [==============================] - 0s 64ms/step - loss: 0.0052 - val_loss: 0.0030\n",
            "Epoch 23/100\n",
            "3/3 [==============================] - 0s 60ms/step - loss: 0.0059 - val_loss: 0.0025\n",
            "Epoch 24/100\n",
            "3/3 [==============================] - 0s 65ms/step - loss: 0.0056 - val_loss: 0.0023\n",
            "Epoch 25/100\n",
            "3/3 [==============================] - 0s 62ms/step - loss: 0.0064 - val_loss: 0.0023\n",
            "Epoch 26/100\n",
            "3/3 [==============================] - 0s 62ms/step - loss: 0.0061 - val_loss: 0.0023\n",
            "Epoch 27/100\n",
            "3/3 [==============================] - 0s 59ms/step - loss: 0.0051 - val_loss: 0.0022\n",
            "Epoch 28/100\n",
            "3/3 [==============================] - 0s 64ms/step - loss: 0.0058 - val_loss: 0.0022\n",
            "Epoch 29/100\n",
            "3/3 [==============================] - 0s 63ms/step - loss: 0.0041 - val_loss: 0.0022\n",
            "Epoch 30/100\n",
            "3/3 [==============================] - 0s 60ms/step - loss: 0.0050 - val_loss: 0.0022\n",
            "Epoch 31/100\n",
            "3/3 [==============================] - 0s 63ms/step - loss: 0.0048 - val_loss: 0.0022\n",
            "Epoch 32/100\n",
            "3/3 [==============================] - 0s 64ms/step - loss: 0.0049 - val_loss: 0.0022\n",
            "Epoch 33/100\n",
            "3/3 [==============================] - 0s 62ms/step - loss: 0.0054 - val_loss: 0.0022\n",
            "Epoch 34/100\n",
            "3/3 [==============================] - 0s 64ms/step - loss: 0.0045 - val_loss: 0.0023\n",
            "Epoch 35/100\n",
            "3/3 [==============================] - 0s 64ms/step - loss: 0.0045 - val_loss: 0.0023\n",
            "Epoch 36/100\n",
            "3/3 [==============================] - 0s 61ms/step - loss: 0.0033 - val_loss: 0.0024\n",
            "Epoch 37/100\n",
            "3/3 [==============================] - 0s 63ms/step - loss: 0.0051 - val_loss: 0.0023\n",
            "Epoch 38/100\n",
            "3/3 [==============================] - 0s 63ms/step - loss: 0.0049 - val_loss: 0.0024\n",
            "Epoch 39/100\n",
            "3/3 [==============================] - 0s 60ms/step - loss: 0.0057 - val_loss: 0.0025\n",
            "Epoch 40/100\n",
            "3/3 [==============================] - 0s 68ms/step - loss: 0.0044 - val_loss: 0.0026\n",
            "Epoch 41/100\n",
            "3/3 [==============================] - 0s 63ms/step - loss: 0.0042 - val_loss: 0.0025\n",
            "Epoch 42/100\n",
            "3/3 [==============================] - 0s 63ms/step - loss: 0.0043 - val_loss: 0.0024\n",
            "Epoch 43/100\n",
            "3/3 [==============================] - 0s 63ms/step - loss: 0.0044 - val_loss: 0.0026\n",
            "Epoch 44/100\n",
            "3/3 [==============================] - 0s 64ms/step - loss: 0.0046 - val_loss: 0.0025\n",
            "Epoch 45/100\n",
            "3/3 [==============================] - 0s 65ms/step - loss: 0.0051 - val_loss: 0.0026\n",
            "Epoch 46/100\n",
            "3/3 [==============================] - 0s 67ms/step - loss: 0.0031 - val_loss: 0.0026\n",
            "Epoch 47/100\n",
            "3/3 [==============================] - 0s 60ms/step - loss: 0.0040 - val_loss: 0.0025\n",
            "Epoch 48/100\n",
            "3/3 [==============================] - 0s 62ms/step - loss: 0.0044 - val_loss: 0.0024\n",
            "Epoch 49/100\n",
            "3/3 [==============================] - 0s 64ms/step - loss: 0.0035 - val_loss: 0.0026\n",
            "Epoch 50/100\n",
            "3/3 [==============================] - 0s 70ms/step - loss: 0.0046 - val_loss: 0.0025\n",
            "Epoch 51/100\n",
            "3/3 [==============================] - 0s 63ms/step - loss: 0.0037 - val_loss: 0.0025\n",
            "Epoch 52/100\n",
            "3/3 [==============================] - 0s 66ms/step - loss: 0.0050 - val_loss: 0.0024\n",
            "Epoch 53/100\n",
            "3/3 [==============================] - 0s 61ms/step - loss: 0.0041 - val_loss: 0.0026\n",
            "Epoch 54/100\n",
            "3/3 [==============================] - 0s 65ms/step - loss: 0.0051 - val_loss: 0.0024\n",
            "Epoch 55/100\n",
            "3/3 [==============================] - 0s 63ms/step - loss: 0.0041 - val_loss: 0.0025\n",
            "Epoch 56/100\n",
            "3/3 [==============================] - 0s 65ms/step - loss: 0.0041 - val_loss: 0.0024\n",
            "Epoch 57/100\n",
            "3/3 [==============================] - 0s 63ms/step - loss: 0.0043 - val_loss: 0.0025\n",
            "Epoch 58/100\n",
            "3/3 [==============================] - 0s 64ms/step - loss: 0.0049 - val_loss: 0.0024\n",
            "Epoch 59/100\n",
            "3/3 [==============================] - 0s 64ms/step - loss: 0.0037 - val_loss: 0.0025\n",
            "Epoch 60/100\n",
            "3/3 [==============================] - 0s 65ms/step - loss: 0.0048 - val_loss: 0.0023\n",
            "Epoch 61/100\n",
            "3/3 [==============================] - 0s 67ms/step - loss: 0.0037 - val_loss: 0.0024\n",
            "Epoch 62/100\n",
            "3/3 [==============================] - 0s 62ms/step - loss: 0.0035 - val_loss: 0.0025\n",
            "Epoch 63/100\n",
            "3/3 [==============================] - 0s 64ms/step - loss: 0.0052 - val_loss: 0.0022\n",
            "Epoch 64/100\n",
            "3/3 [==============================] - 0s 64ms/step - loss: 0.0040 - val_loss: 0.0025\n",
            "Epoch 65/100\n",
            "3/3 [==============================] - 0s 62ms/step - loss: 0.0043 - val_loss: 0.0024\n",
            "Epoch 66/100\n",
            "3/3 [==============================] - 0s 60ms/step - loss: 0.0042 - val_loss: 0.0023\n",
            "Epoch 67/100\n",
            "3/3 [==============================] - 0s 60ms/step - loss: 0.0044 - val_loss: 0.0024\n",
            "Epoch 68/100\n",
            "3/3 [==============================] - 0s 60ms/step - loss: 0.0041 - val_loss: 0.0024\n",
            "Epoch 69/100\n",
            "3/3 [==============================] - 0s 64ms/step - loss: 0.0045 - val_loss: 0.0022\n",
            "Epoch 70/100\n",
            "3/3 [==============================] - 0s 68ms/step - loss: 0.0041 - val_loss: 0.0024\n",
            "Epoch 71/100\n",
            "3/3 [==============================] - 0s 67ms/step - loss: 0.0042 - val_loss: 0.0023\n",
            "Epoch 72/100\n",
            "3/3 [==============================] - 0s 65ms/step - loss: 0.0044 - val_loss: 0.0022\n",
            "Epoch 73/100\n",
            "3/3 [==============================] - 0s 72ms/step - loss: 0.0042 - val_loss: 0.0025\n",
            "Epoch 74/100\n",
            "3/3 [==============================] - 0s 65ms/step - loss: 0.0042 - val_loss: 0.0022\n",
            "Epoch 75/100\n",
            "3/3 [==============================] - 0s 61ms/step - loss: 0.0039 - val_loss: 0.0023\n",
            "Epoch 76/100\n",
            "3/3 [==============================] - 0s 65ms/step - loss: 0.0046 - val_loss: 0.0023\n",
            "Epoch 77/100\n",
            "3/3 [==============================] - 0s 59ms/step - loss: 0.0034 - val_loss: 0.0023\n",
            "Epoch 78/100\n",
            "3/3 [==============================] - 0s 65ms/step - loss: 0.0031 - val_loss: 0.0022\n",
            "Epoch 79/100\n",
            "3/3 [==============================] - 0s 65ms/step - loss: 0.0040 - val_loss: 0.0024\n",
            "Epoch 80/100\n",
            "3/3 [==============================] - 0s 62ms/step - loss: 0.0033 - val_loss: 0.0023\n",
            "Epoch 81/100\n",
            "3/3 [==============================] - 0s 66ms/step - loss: 0.0029 - val_loss: 0.0022\n",
            "Epoch 82/100\n",
            "3/3 [==============================] - 0s 68ms/step - loss: 0.0038 - val_loss: 0.0026\n",
            "Epoch 83/100\n",
            "3/3 [==============================] - 0s 62ms/step - loss: 0.0036 - val_loss: 0.0022\n",
            "Epoch 84/100\n",
            "3/3 [==============================] - 0s 62ms/step - loss: 0.0039 - val_loss: 0.0025\n",
            "Epoch 85/100\n",
            "3/3 [==============================] - 0s 66ms/step - loss: 0.0035 - val_loss: 0.0022\n",
            "Epoch 86/100\n",
            "3/3 [==============================] - 0s 61ms/step - loss: 0.0035 - val_loss: 0.0022\n",
            "Epoch 87/100\n",
            "3/3 [==============================] - 0s 67ms/step - loss: 0.0049 - val_loss: 0.0024\n",
            "Epoch 88/100\n",
            "3/3 [==============================] - 0s 67ms/step - loss: 0.0034 - val_loss: 0.0022\n",
            "Epoch 89/100\n",
            "3/3 [==============================] - 0s 63ms/step - loss: 0.0046 - val_loss: 0.0024\n",
            "Epoch 90/100\n",
            "3/3 [==============================] - 0s 63ms/step - loss: 0.0035 - val_loss: 0.0022\n",
            "Epoch 91/100\n",
            "3/3 [==============================] - 0s 66ms/step - loss: 0.0030 - val_loss: 0.0023\n",
            "Epoch 92/100\n",
            "3/3 [==============================] - 0s 63ms/step - loss: 0.0038 - val_loss: 0.0023\n",
            "Epoch 93/100\n",
            "3/3 [==============================] - 0s 63ms/step - loss: 0.0044 - val_loss: 0.0024\n",
            "Epoch 94/100\n",
            "3/3 [==============================] - 0s 63ms/step - loss: 0.0040 - val_loss: 0.0022\n",
            "Epoch 95/100\n",
            "3/3 [==============================] - 0s 64ms/step - loss: 0.0037 - val_loss: 0.0026\n",
            "Epoch 96/100\n",
            "3/3 [==============================] - 0s 62ms/step - loss: 0.0035 - val_loss: 0.0023\n",
            "Epoch 97/100\n",
            "3/3 [==============================] - 0s 64ms/step - loss: 0.0037 - val_loss: 0.0028\n",
            "Epoch 98/100\n",
            "3/3 [==============================] - 0s 65ms/step - loss: 0.0034 - val_loss: 0.0023\n",
            "Epoch 99/100\n",
            "3/3 [==============================] - 0s 60ms/step - loss: 0.0036 - val_loss: 0.0026\n",
            "Epoch 100/100\n",
            "3/3 [==============================] - 0s 67ms/step - loss: 0.0035 - val_loss: 0.0022\n"
          ],
          "name": "stdout"
        },
        {
          "output_type": "execute_result",
          "data": {
            "text/plain": [
              "<tensorflow.python.keras.callbacks.History at 0x7fd81bd7df28>"
            ]
          },
          "metadata": {
            "tags": []
          },
          "execution_count": 755
        }
      ]
    },
    {
      "cell_type": "code",
      "metadata": {
        "id": "5jwJIbJ-NICp"
      },
      "source": [
        "### Lets Do the prediction and check performance metrics\n",
        "train_predict=model.predict(X_train)\n",
        "test_predict=model.predict(X_test)"
      ],
      "execution_count": 756,
      "outputs": []
    },
    {
      "cell_type": "code",
      "metadata": {
        "id": "2q47evvBNICq"
      },
      "source": [
        "## Transform back to the original format\n",
        "train_predict=scaler.inverse_transform(train_predict)\n",
        "test_predict=scaler.inverse_transform(test_predict)"
      ],
      "execution_count": 757,
      "outputs": []
    },
    {
      "cell_type": "code",
      "metadata": {
        "id": "M96pTP8AUYNo"
      },
      "source": [
        "# y_train.shape\r\n",
        "# train_predict"
      ],
      "execution_count": 758,
      "outputs": []
    },
    {
      "cell_type": "code",
      "metadata": {
        "colab": {
          "base_uri": "https://localhost:8080/"
        },
        "id": "wS7v0fBpNICq",
        "outputId": "61196ed7-8ced-4081-fee0-9de0f7fd01ba"
      },
      "source": [
        "### Calculate RMSE performance metrics\n",
        "rmse_train = np.sqrt(mean_squared_error(y_train,train_predict))\n",
        "rmse_train"
      ],
      "execution_count": 759,
      "outputs": [
        {
          "output_type": "execute_result",
          "data": {
            "text/plain": [
              "2206.5808568564794"
            ]
          },
          "metadata": {
            "tags": []
          },
          "execution_count": 759
        }
      ]
    },
    {
      "cell_type": "code",
      "metadata": {
        "colab": {
          "base_uri": "https://localhost:8080/"
        },
        "id": "sz3hbeB_NICq",
        "outputId": "170e00b5-00bf-46f6-e8a4-e0b0ff6235f0"
      },
      "source": [
        "### Test Data RMSE\n",
        "rmse_test = np.sqrt(mean_squared_error(ytest,test_predict))\n",
        "rmse_test"
      ],
      "execution_count": 760,
      "outputs": [
        {
          "output_type": "execute_result",
          "data": {
            "text/plain": [
              "1590.5266461423384"
            ]
          },
          "metadata": {
            "tags": []
          },
          "execution_count": 760
        }
      ]
    },
    {
      "cell_type": "code",
      "metadata": {
        "id": "HvsNwuEPUpZP"
      },
      "source": [
        ""
      ],
      "execution_count": 760,
      "outputs": []
    },
    {
      "cell_type": "code",
      "metadata": {
        "colab": {
          "base_uri": "https://localhost:8080/"
        },
        "id": "PeG8XYqCNICq",
        "outputId": "4de6b553-248d-4526-fae8-d6bd8ea85135"
      },
      "source": [
        "### Plotting \n",
        "# shift train predictions for plotting\n",
        "look_back=time_step\n",
        "trainPredictPlot = np.empty_like(df1)\n",
        "trainPredictPlot[:, :] = np.nan\n",
        "trainPredictPlot[look_back:len(train_predict)+look_back, :] = train_predict\n",
        "trainPredictPlot.shape"
      ],
      "execution_count": 761,
      "outputs": [
        {
          "output_type": "execute_result",
          "data": {
            "text/plain": [
              "(313, 1)"
            ]
          },
          "metadata": {
            "tags": []
          },
          "execution_count": 761
        }
      ]
    },
    {
      "cell_type": "code",
      "metadata": {
        "id": "1r0_WJTNWuCe"
      },
      "source": [
        "# shift test predictions for plotting\r\n",
        "testPredictPlot = np.empty_like(df1)\r\n",
        "testPredictPlot[:, :] = np.nan\r\n",
        "testPredictPlot[len(train_predict)+(look_back*2)+1:len(df1)-1, :] = test_predict\r\n"
      ],
      "execution_count": 762,
      "outputs": []
    },
    {
      "cell_type": "code",
      "metadata": {
        "colab": {
          "base_uri": "https://localhost:8080/",
          "height": 515
        },
        "id": "uwJcfq6QWrnj",
        "outputId": "17b86e47-c09c-4e4b-a594-883f7ee4f0a5"
      },
      "source": [
        "# plot baseline and predictions\r\n",
        "plt.figure(figsize=(16, 8))\r\n",
        "#plt.title('Model')\r\n",
        "#plt.xlabel('Date', fontsize=18)\r\n",
        "#plt.ylabel('Close price in USD', fontsize=18)\r\n",
        "#plt.legend(['Trained price', 'Actual price', 'Prediction price'], loc='lower right')\r\n",
        "plt.plot(scaler.inverse_transform(df1))\r\n",
        "plt.plot(trainPredictPlot)\r\n",
        "plt.plot(testPredictPlot)\r\n",
        "plt.show()"
      ],
      "execution_count": 763,
      "outputs": [
        {
          "output_type": "display_data",
          "data": {
            "image/png": "[encoded data removed]",
            "text/plain": [
              "<Figure size 1152x576 with 1 Axes>"
            ]
          },
          "metadata": {
            "tags": []
          }
        }
      ]
    },
    {
      "cell_type": "code",
      "metadata": {
        "colab": {
          "base_uri": "https://localhost:8080/"
        },
        "id": "Lb-DyGohNICr",
        "outputId": "54a389a3-c6de-4642-d793-21d8894cf786"
      },
      "source": [
        "len(test_data)"
      ],
      "execution_count": 764,
      "outputs": [
        {
          "output_type": "execute_result",
          "data": {
            "text/plain": [
              "101"
            ]
          },
          "metadata": {
            "tags": []
          },
          "execution_count": 764
        }
      ]
    },
    {
      "cell_type": "code",
      "metadata": {
        "colab": {
          "base_uri": "https://localhost:8080/"
        },
        "id": "zcs-bxn_NICr",
        "outputId": "e722cde1-2613-4f46-f1f7-04f1d0f7083a"
      },
      "source": [
        "n = len(test_data) - time_step\n",
        "x_input=test_data[n:].reshape(1,-1) # take last 100 days record from test set\n",
        "print(x_input.shape)\n",
        "temp_input=list(x_input)\n",
        "temp_input=temp_input[0].tolist()"
      ],
      "execution_count": 765,
      "outputs": [
        {
          "output_type": "stream",
          "text": [
            "(1, 20)\n"
          ],
          "name": "stdout"
        }
      ]
    },
    {
      "cell_type": "code",
      "metadata": {
        "id": "EVppKICXa5kM"
      },
      "source": [
        "#x_input"
      ],
      "execution_count": 766,
      "outputs": []
    },
    {
      "cell_type": "code",
      "metadata": {
        "colab": {
          "base_uri": "https://localhost:8080/"
        },
        "id": "7c5uik9SNICr",
        "outputId": "0d5c6474-6842-48b7-c626-01366c3234c3"
      },
      "source": [
        "print(len(temp_input))\r\n"
      ],
      "execution_count": 767,
      "outputs": [
        {
          "output_type": "stream",
          "text": [
            "20\n"
          ],
          "name": "stdout"
        }
      ]
    },
    {
      "cell_type": "code",
      "metadata": {
        "colab": {
          "base_uri": "https://localhost:8080/"
        },
        "id": "yNZmudJdNICs",
        "outputId": "ceac3d96-c78c-45d9-caf1-8bfff43b7330"
      },
      "source": [
        "# demonstrate prediction for next 10 days\n",
        "# logic to find out next 30 days from temp_input list\n",
        "from numpy import array\n",
        "\n",
        "lst_output=[]\n",
        "n_steps=time_step\n",
        "i=0\n",
        "while(i<predict_ahead):\n",
        "    \n",
        "    if(len(temp_input) <= time_step):\n",
        "        # at first loop it comes here and only execute once because after this round length will be 100+ always\n",
        "        x_input = x_input.reshape((1, n_steps,1)) # reshape 100 days data from 2d to 3d for tensorflow model\n",
        "        yhat = model.predict(x_input, verbose=0)  # now make prediction on our last 100 days records\n",
        "        temp_input.extend(yhat[0].tolist())       # feeding the first prediction to the test vector for 2nd round\n",
        "        lst_output.extend(yhat.tolist())          # 1st output vector will be updated for the first time\n",
        "        i=i+1\n",
        "    else:\n",
        "        x_input=np.array(temp_input[1:]) # recreate x_input from 1 updated index\n",
        "        x_input=x_input.reshape(1,-1)\n",
        "        x_input = x_input.reshape((1, n_steps,1)) # reshape 100 days data from 2d to 3d for tensorflow model\n",
        "        yhat = model.predict(x_input, verbose=0)  # now make prediction on our last 100 days records\n",
        "        temp_input.extend(yhat[0].tolist())       # feeding the first prediction to the test vector for 2nd round\n",
        "        temp_input=temp_input[1:]                 # shift the tempinput one index next\n",
        "        lst_output.extend(yhat.tolist())          # 1st output vector will be updated for the first time\n",
        "        i=i+1\n",
        "    \n",
        "\n",
        "print(lst_output)"
      ],
      "execution_count": 768,
      "outputs": [
        {
          "output_type": "stream",
          "text": [
            "[[0.4672240614891052], [0.4522135555744171], [0.4361025094985962], [0.42142170667648315], [0.4094258248806], [0.4030070900917053], [0.39887556433677673], [0.39692455530166626], [0.39769238233566284], [0.3991238474845886]]\n"
          ],
          "name": "stdout"
        }
      ]
    },
    {
      "cell_type": "code",
      "metadata": {
        "id": "jCaQkLnKNICs"
      },
      "source": [
        "day_new=np.arange(1,time_step + 1)     # keep 100 days\n",
        "day_pred=np.arange(time_step+ 1,time_step+ predict_ahead + 1)  # keep 30 days because I need to predict 30 days in future"
      ],
      "execution_count": 769,
      "outputs": []
    },
    {
      "cell_type": "code",
      "metadata": {
        "colab": {
          "base_uri": "https://localhost:8080/"
        },
        "id": "4jTj5waqrqNk",
        "outputId": "b715241f-a69b-47be-83b6-87b23693f3a4"
      },
      "source": [
        "len(df1)"
      ],
      "execution_count": 770,
      "outputs": [
        {
          "output_type": "execute_result",
          "data": {
            "text/plain": [
              "313"
            ]
          },
          "metadata": {
            "tags": []
          },
          "execution_count": 770
        }
      ]
    },
    {
      "cell_type": "code",
      "metadata": {
        "colab": {
          "base_uri": "https://localhost:8080/",
          "height": 299
        },
        "id": "2xnBoRDVNICt",
        "outputId": "d70dce6a-c4bc-41af-9773-8efa8305e0c9"
      },
      "source": [
        "plt.plot(day_new,scaler.inverse_transform(df1[len(df1)-time_step:]))\n",
        "plt.plot(day_pred,scaler.inverse_transform(lst_output))"
      ],
      "execution_count": 771,
      "outputs": [
        {
          "output_type": "execute_result",
          "data": {
            "text/plain": [
              "[<matplotlib.lines.Line2D at 0x7fd8195380f0>]"
            ]
          },
          "metadata": {
            "tags": []
          },
          "execution_count": 771
        },
        {
          "output_type": "display_data",
          "data": {
            "image/png": "[encoded data removed]",
            "text/plain": [
              "<Figure size 432x288 with 1 Axes>"
            ]
          },
          "metadata": {
            "tags": []
          }
        }
      ]
    },
    {
      "cell_type": "code",
      "metadata": {
        "id": "z6A2rNjDNICt"
      },
      "source": [
        "df3=df1.tolist()\n",
        "df3.extend(lst_output)\n",
        "#plt.plot(df3[2250:])"
      ],
      "execution_count": 772,
      "outputs": []
    },
    {
      "cell_type": "code",
      "metadata": {
        "id": "AoebyLWRNICt"
      },
      "source": [
        "df3=scaler.inverse_transform(df3).tolist()"
      ],
      "execution_count": 773,
      "outputs": []
    },
    {
      "cell_type": "code",
      "metadata": {
        "colab": {
          "base_uri": "https://localhost:8080/",
          "height": 299
        },
        "id": "3C9lXxYZNICt",
        "outputId": "52c5b24a-f639-40f6-8da2-2b74c4807939"
      },
      "source": [
        "plt.plot(df3)"
      ],
      "execution_count": 774,
      "outputs": [
        {
          "output_type": "execute_result",
          "data": {
            "text/plain": [
              "[<matplotlib.lines.Line2D at 0x7fd8194b4400>]"
            ]
          },
          "metadata": {
            "tags": []
          },
          "execution_count": 774
        },
        {
          "output_type": "display_data",
          "data": {
            "image/png": "[encoded data removed]",
            "text/plain": [
              "<Figure size 432x288 with 1 Axes>"
            ]
          },
          "metadata": {
            "tags": []
          }
        }
      ]
    },
    {
      "cell_type": "code",
      "metadata": {
        "id": "fcKhrhkENICu"
      },
      "source": [
        ""
      ],
      "execution_count": 774,
      "outputs": []
    }
  ]
}